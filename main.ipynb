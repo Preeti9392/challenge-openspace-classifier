{
 "cells": [
  {
   "cell_type": "code",
   "execution_count": 148,
   "id": "a2df363d",
   "metadata": {},
   "outputs": [],
   "source": [
    "import pandas as pd\n",
    "import random\n"
   ]
  },
  {
   "cell_type": "code",
   "execution_count": 149,
   "id": "6aacbf0a",
   "metadata": {},
   "outputs": [
    {
     "data": {
      "text/html": [
       "<div>\n",
       "<style scoped>\n",
       "    .dataframe tbody tr th:only-of-type {\n",
       "        vertical-align: middle;\n",
       "    }\n",
       "\n",
       "    .dataframe tbody tr th {\n",
       "        vertical-align: top;\n",
       "    }\n",
       "\n",
       "    .dataframe thead th {\n",
       "        text-align: right;\n",
       "    }\n",
       "</style>\n",
       "<table border=\"1\" class=\"dataframe\">\n",
       "  <thead>\n",
       "    <tr style=\"text-align: right;\">\n",
       "      <th></th>\n",
       "      <th>0</th>\n",
       "    </tr>\n",
       "  </thead>\n",
       "  <tbody>\n",
       "    <tr>\n",
       "      <th>0</th>\n",
       "      <td>Hajer</td>\n",
       "    </tr>\n",
       "    <tr>\n",
       "      <th>1</th>\n",
       "      <td>Charly</td>\n",
       "    </tr>\n",
       "    <tr>\n",
       "      <th>2</th>\n",
       "      <td>Choti</td>\n",
       "    </tr>\n",
       "    <tr>\n",
       "      <th>3</th>\n",
       "      <td>Megan</td>\n",
       "    </tr>\n",
       "    <tr>\n",
       "      <th>4</th>\n",
       "      <td>Moussa</td>\n",
       "    </tr>\n",
       "  </tbody>\n",
       "</table>\n",
       "</div>"
      ],
      "text/plain": [
       "        0\n",
       "0   Hajer\n",
       "1  Charly\n",
       "2   Choti\n",
       "3   Megan\n",
       "4  Moussa"
      ]
     },
     "execution_count": 149,
     "metadata": {},
     "output_type": "execute_result"
    }
   ],
   "source": [
    "#Loading the name of students in students\n",
    "students=pd.read_csv(\"C:\\\\Users\\\\preet\\\\practicefolder\\\\colleagues.csv\", header=None)\n",
    "students.head()"
   ]
  },
  {
   "cell_type": "code",
   "execution_count": null,
   "id": "2e44677c",
   "metadata": {},
   "outputs": [
    {
     "data": {
      "text/html": [
       "<div>\n",
       "<style scoped>\n",
       "    .dataframe tbody tr th:only-of-type {\n",
       "        vertical-align: middle;\n",
       "    }\n",
       "\n",
       "    .dataframe tbody tr th {\n",
       "        vertical-align: top;\n",
       "    }\n",
       "\n",
       "    .dataframe thead th {\n",
       "        text-align: right;\n",
       "    }\n",
       "</style>\n",
       "<table border=\"1\" class=\"dataframe\">\n",
       "  <thead>\n",
       "    <tr style=\"text-align: right;\">\n",
       "      <th></th>\n",
       "      <th>students_name</th>\n",
       "    </tr>\n",
       "  </thead>\n",
       "  <tbody>\n",
       "    <tr>\n",
       "      <th>0</th>\n",
       "      <td>Hajer</td>\n",
       "    </tr>\n",
       "    <tr>\n",
       "      <th>1</th>\n",
       "      <td>Charly</td>\n",
       "    </tr>\n",
       "    <tr>\n",
       "      <th>2</th>\n",
       "      <td>Choti</td>\n",
       "    </tr>\n",
       "    <tr>\n",
       "      <th>3</th>\n",
       "      <td>Megan</td>\n",
       "    </tr>\n",
       "    <tr>\n",
       "      <th>4</th>\n",
       "      <td>Moussa</td>\n",
       "    </tr>\n",
       "  </tbody>\n",
       "</table>\n",
       "</div>"
      ],
      "text/plain": [
       "  students_name\n",
       "0         Hajer\n",
       "1        Charly\n",
       "2         Choti\n",
       "3         Megan\n",
       "4        Moussa"
      ]
     },
     "execution_count": 150,
     "metadata": {},
     "output_type": "execute_result"
    }
   ],
   "source": [
    "# assigning column name to the the students name column\n",
    "students=students.set_axis([\"students_name\"], axis=1)\n",
    "students.head()"
   ]
  },
  {
   "cell_type": "code",
   "execution_count": 151,
   "id": "3616abdc",
   "metadata": {},
   "outputs": [
    {
     "data": {
      "text/plain": [
       "['Hajer',\n",
       " 'Charly',\n",
       " 'Choti',\n",
       " 'Megan',\n",
       " 'Moussa',\n",
       " 'Yves',\n",
       " 'Preeti',\n",
       " 'Nadiya',\n",
       " 'Aida',\n",
       " 'Augustin',\n",
       " 'Klebert',\n",
       " 'Marc',\n",
       " 'Sofia',\n",
       " 'Younes',\n",
       " 'Kenny',\n",
       " 'Floriane',\n",
       " 'Jordi',\n",
       " 'Alberto',\n",
       " 'Fang',\n",
       " 'Caterina',\n",
       " 'Yassine',\n",
       " 'Dragos',\n",
       " 'Hanieh',\n",
       " 'Mengstu',\n",
       " 'Evi',\n",
       " 'Emmanuel']"
      ]
     },
     "execution_count": 151,
     "metadata": {},
     "output_type": "execute_result"
    }
   ],
   "source": [
    "# making a list of students\n",
    "students=list(students[\"students_name\"])\n",
    "students"
   ]
  },
  {
   "cell_type": "code",
   "execution_count": null,
   "id": "7d1a9d05",
   "metadata": {},
   "outputs": [
    {
     "data": {
      "text/plain": [
       "26"
      ]
     },
     "execution_count": 152,
     "metadata": {},
     "output_type": "execute_result"
    }
   ],
   "source": [
    "# checking the number of students\n",
    "len(students)"
   ]
  },
  {
   "cell_type": "code",
   "execution_count": null,
   "id": "d5b2837e",
   "metadata": {},
   "outputs": [],
   "source": [
    "# Creating a class_room dictionary there each table has four chair \n",
    "# table as keys and chairs as values to the keys\n",
    "class_room = {\"table1\":[\"chair1\",\"chair2\",\"chair3\",\"chair4\"]}\n",
    "class_room[\"table2\"]=[\"chair1\",\"chair2\",\"chair3\",\"chair4\"]\n",
    "class_room[\"table3\"]=[\"chair1\",\"chair2\",\"chair3\",\"chair4\"]\n",
    "class_room[\"table4\"]=[\"chair1\",\"chair2\",\"chair3\",\"chair4\"]\n",
    "class_room[\"table5\"]=[\"chair1\",\"chair2\",\"chair3\",\"chair4\"]\n",
    "class_room[\"table6\"]=[\"chair1\",\"chair2\",\"chair3\",\"chair4\"]"
   ]
  },
  {
   "cell_type": "code",
   "execution_count": 168,
   "id": "a6c998bf",
   "metadata": {},
   "outputs": [
    {
     "data": {
      "text/plain": [
       "dict_keys(['table1', 'table2', 'table3', 'table4', 'table5', 'table6', 'table7'])"
      ]
     },
     "execution_count": 168,
     "metadata": {},
     "output_type": "execute_result"
    }
   ],
   "source": [
    "class_room.keys()"
   ]
  },
  {
   "cell_type": "code",
   "execution_count": 169,
   "id": "b0d33adb",
   "metadata": {},
   "outputs": [
    {
     "name": "stdout",
     "output_type": "stream",
     "text": [
      "table1\n",
      "chair1=['Fang']\n",
      "chair2=['Younes']\n",
      "chair3=['Caterina']\n",
      "chair4=['Emmanuel']\n",
      "table2\n",
      "chair1=['Fang']\n",
      "chair2=['Jordi']\n",
      "chair3=['Emmanuel']\n",
      "chair4=['Mengstu']\n",
      "table3\n",
      "chair1=['Emmanuel']\n",
      "chair2=['Marc']\n",
      "chair3=['Megan']\n",
      "chair4=['Emmanuel']\n",
      "table4\n",
      "chair1=['Evi']\n",
      "chair2=['Jordi']\n",
      "chair3=['Evi']\n",
      "chair4=['Jordi']\n",
      "table5\n",
      "chair1=['Choti']\n",
      "chair2=['Yassine']\n",
      "chair3=['Floriane']\n",
      "chair4=['Moussa']\n",
      "table6\n",
      "chair1=['Younes']\n",
      "chair2=['Yves']\n",
      "chair3=['Choti']\n",
      "chair4=['Mengstu']\n",
      "table7\n",
      "chair1=['Megan']\n",
      "chair2=['Hanieh']\n",
      "chair3=['Megan']\n",
      "chair4=['Dragos']\n"
     ]
    }
   ],
   "source": [
    "#assigning random seats to the students\n",
    "if len(students)<=24:          \n",
    "    # if students have sufficient chairs present\n",
    "    seatsleft=24\n",
    "    for i in class_room.keys():\n",
    "        print(i)\n",
    "        for x in range(4):\n",
    "            print(f\"{class_room[i][x]}={random.sample(students,1)}\")\n",
    "        seatsleft-=1\n",
    "\n",
    "elif len(students)>24:           \n",
    "     # if the no of students is more than the chairs in room\n",
    "    class_room[\"table7\"]=[\"chair1\",\"chair2\",\"chair3\",\"chair4\"]       \n",
    "    # adding one more table to the classroom\n",
    "    seatsleft=28\n",
    "    for i in class_room.keys():\n",
    "        print(i)\n",
    "        for x in range(4):\n",
    "            print(f\"{class_room[i][x]}={random.sample(students,1)}\")\n",
    "        seatsleft-=1\n",
    "\n",
    "\n",
    "        "
   ]
  },
  {
   "cell_type": "code",
   "execution_count": null,
   "id": "5703e202",
   "metadata": {},
   "outputs": [],
   "source": []
  },
  {
   "cell_type": "code",
   "execution_count": null,
   "id": "a3b94b67",
   "metadata": {},
   "outputs": [],
   "source": []
  },
  {
   "cell_type": "code",
   "execution_count": null,
   "id": "4f67de27",
   "metadata": {},
   "outputs": [],
   "source": []
  },
  {
   "cell_type": "code",
   "execution_count": null,
   "id": "c45a5192",
   "metadata": {},
   "outputs": [],
   "source": []
  },
  {
   "cell_type": "code",
   "execution_count": null,
   "id": "b173bf86",
   "metadata": {},
   "outputs": [],
   "source": []
  },
  {
   "cell_type": "code",
   "execution_count": null,
   "id": "e64fa399",
   "metadata": {},
   "outputs": [],
   "source": []
  }
 ],
 "metadata": {
  "kernelspec": {
   "display_name": "base",
   "language": "python",
   "name": "python3"
  },
  "language_info": {
   "codemirror_mode": {
    "name": "ipython",
    "version": 3
   },
   "file_extension": ".py",
   "mimetype": "text/x-python",
   "name": "python",
   "nbconvert_exporter": "python",
   "pygments_lexer": "ipython3",
   "version": "3.11.7"
  }
 },
 "nbformat": 4,
 "nbformat_minor": 5
}

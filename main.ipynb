{
 "cells": [
  {
   "cell_type": "code",
   "execution_count": 108,
   "id": "a2df363d",
   "metadata": {},
   "outputs": [],
   "source": [
    "import pandas as pd\n",
    "import random\n"
   ]
  },
  {
   "cell_type": "code",
   "execution_count": 109,
   "id": "6aacbf0a",
   "metadata": {},
   "outputs": [
    {
     "data": {
      "text/html": [
       "<div>\n",
       "<style scoped>\n",
       "    .dataframe tbody tr th:only-of-type {\n",
       "        vertical-align: middle;\n",
       "    }\n",
       "\n",
       "    .dataframe tbody tr th {\n",
       "        vertical-align: top;\n",
       "    }\n",
       "\n",
       "    .dataframe thead th {\n",
       "        text-align: right;\n",
       "    }\n",
       "</style>\n",
       "<table border=\"1\" class=\"dataframe\">\n",
       "  <thead>\n",
       "    <tr style=\"text-align: right;\">\n",
       "      <th></th>\n",
       "      <th>0</th>\n",
       "    </tr>\n",
       "  </thead>\n",
       "  <tbody>\n",
       "    <tr>\n",
       "      <th>0</th>\n",
       "      <td>Hajer</td>\n",
       "    </tr>\n",
       "    <tr>\n",
       "      <th>1</th>\n",
       "      <td>Charly</td>\n",
       "    </tr>\n",
       "    <tr>\n",
       "      <th>2</th>\n",
       "      <td>Choti</td>\n",
       "    </tr>\n",
       "    <tr>\n",
       "      <th>3</th>\n",
       "      <td>Megan</td>\n",
       "    </tr>\n",
       "    <tr>\n",
       "      <th>4</th>\n",
       "      <td>Moussa</td>\n",
       "    </tr>\n",
       "  </tbody>\n",
       "</table>\n",
       "</div>"
      ],
      "text/plain": [
       "        0\n",
       "0   Hajer\n",
       "1  Charly\n",
       "2   Choti\n",
       "3   Megan\n",
       "4  Moussa"
      ]
     },
     "execution_count": 109,
     "metadata": {},
     "output_type": "execute_result"
    }
   ],
   "source": [
    "#Loading the name of students in students\n",
    "students=pd.read_csv(\"C:\\\\Users\\\\preet\\\\practicefolder\\\\colleagues.csv\", header=None)\n",
    "students.head()"
   ]
  },
  {
   "cell_type": "code",
   "execution_count": 110,
   "id": "2e44677c",
   "metadata": {},
   "outputs": [
    {
     "data": {
      "text/html": [
       "<div>\n",
       "<style scoped>\n",
       "    .dataframe tbody tr th:only-of-type {\n",
       "        vertical-align: middle;\n",
       "    }\n",
       "\n",
       "    .dataframe tbody tr th {\n",
       "        vertical-align: top;\n",
       "    }\n",
       "\n",
       "    .dataframe thead th {\n",
       "        text-align: right;\n",
       "    }\n",
       "</style>\n",
       "<table border=\"1\" class=\"dataframe\">\n",
       "  <thead>\n",
       "    <tr style=\"text-align: right;\">\n",
       "      <th></th>\n",
       "      <th>students_name</th>\n",
       "    </tr>\n",
       "  </thead>\n",
       "  <tbody>\n",
       "    <tr>\n",
       "      <th>0</th>\n",
       "      <td>Hajer</td>\n",
       "    </tr>\n",
       "    <tr>\n",
       "      <th>1</th>\n",
       "      <td>Charly</td>\n",
       "    </tr>\n",
       "    <tr>\n",
       "      <th>2</th>\n",
       "      <td>Choti</td>\n",
       "    </tr>\n",
       "    <tr>\n",
       "      <th>3</th>\n",
       "      <td>Megan</td>\n",
       "    </tr>\n",
       "    <tr>\n",
       "      <th>4</th>\n",
       "      <td>Moussa</td>\n",
       "    </tr>\n",
       "  </tbody>\n",
       "</table>\n",
       "</div>"
      ],
      "text/plain": [
       "  students_name\n",
       "0         Hajer\n",
       "1        Charly\n",
       "2         Choti\n",
       "3         Megan\n",
       "4        Moussa"
      ]
     },
     "execution_count": 110,
     "metadata": {},
     "output_type": "execute_result"
    }
   ],
   "source": [
    "students=students.set_axis([\"students_name\"], axis=1)\n",
    "students.head()"
   ]
  },
  {
   "cell_type": "code",
   "execution_count": 111,
   "id": "3616abdc",
   "metadata": {},
   "outputs": [
    {
     "data": {
      "text/plain": [
       "['Hajer',\n",
       " 'Charly',\n",
       " 'Choti',\n",
       " 'Megan',\n",
       " 'Moussa',\n",
       " 'Yves',\n",
       " 'Preeti',\n",
       " 'Nadiya',\n",
       " 'Aida',\n",
       " 'Augustin',\n",
       " 'Klebert',\n",
       " 'Marc',\n",
       " 'Sofia',\n",
       " 'Younes',\n",
       " 'Kenny',\n",
       " 'Floriane',\n",
       " 'Jordi',\n",
       " 'Alberto',\n",
       " 'Fang',\n",
       " 'Caterina',\n",
       " 'Yassine',\n",
       " 'Dragos',\n",
       " 'Hanieh',\n",
       " 'Mengstu',\n",
       " 'Evi',\n",
       " 'Emmanuel']"
      ]
     },
     "execution_count": 111,
     "metadata": {},
     "output_type": "execute_result"
    }
   ],
   "source": [
    "# making a list of students\n",
    "students=list(students[\"students_name\"])\n",
    "students"
   ]
  },
  {
   "cell_type": "code",
   "execution_count": 112,
   "id": "7d1a9d05",
   "metadata": {},
   "outputs": [
    {
     "data": {
      "text/plain": [
       "26"
      ]
     },
     "execution_count": 112,
     "metadata": {},
     "output_type": "execute_result"
    }
   ],
   "source": [
    "len(students)"
   ]
  },
  {
   "cell_type": "code",
   "execution_count": 126,
   "id": "d5b2837e",
   "metadata": {},
   "outputs": [],
   "source": [
    "# Creating a class room there each table has four chair \n",
    "class_room = {\"table1\":[\"chair1\",\"chair2\",\"chair3\",\"chair4\"]}\n",
    "class_room[\"table2\"]=[\"chair1\",\"chair2\",\"chair3\",\"chair4\"]\n",
    "class_room[\"table3\"]=[\"chair1\",\"chair2\",\"chair3\",\"chair4\"]\n",
    "class_room[\"table4\"]=[\"chair1\",\"chair2\",\"chair3\",\"chair4\"]\n",
    "class_room[\"table5\"]=[\"chair1\",\"chair2\",\"chair3\",\"chair4\"]\n",
    "class_room[\"table6\"]=[\"chair1\",\"chair2\",\"chair3\",\"chair4\"]"
   ]
  },
  {
   "cell_type": "code",
   "execution_count": 127,
   "id": "95f26ffd",
   "metadata": {},
   "outputs": [],
   "source": [
    "tables=[\"table1\",\"table2\",\"table3\",\"table4\",\"table5\",\"table6\"]"
   ]
  },
  {
   "cell_type": "code",
   "execution_count": null,
   "id": "b0d33adb",
   "metadata": {},
   "outputs": [],
   "source": [
    "for "
   ]
  },
  {
   "cell_type": "code",
   "execution_count": null,
   "id": "5703e202",
   "metadata": {},
   "outputs": [],
   "source": []
  },
  {
   "cell_type": "code",
   "execution_count": null,
   "id": "a3b94b67",
   "metadata": {},
   "outputs": [],
   "source": []
  },
  {
   "cell_type": "code",
   "execution_count": null,
   "id": "4f67de27",
   "metadata": {},
   "outputs": [],
   "source": []
  },
  {
   "cell_type": "code",
   "execution_count": null,
   "id": "c45a5192",
   "metadata": {},
   "outputs": [],
   "source": []
  },
  {
   "cell_type": "code",
   "execution_count": null,
   "id": "b173bf86",
   "metadata": {},
   "outputs": [],
   "source": []
  },
  {
   "cell_type": "code",
   "execution_count": null,
   "id": "e64fa399",
   "metadata": {},
   "outputs": [],
   "source": []
  },
  {
   "cell_type": "code",
   "execution_count": null,
   "id": "0271637f",
   "metadata": {},
   "outputs": [
    {
     "ename": "NameError",
     "evalue": "name 'self' is not defined",
     "output_type": "error",
     "traceback": [
      "\u001b[1;31m---------------------------------------------------------------------------\u001b[0m",
      "\u001b[1;31mNameError\u001b[0m                                 Traceback (most recent call last)",
      "Cell \u001b[1;32mIn[114], line 1\u001b[0m\n\u001b[1;32m----> 1\u001b[0m \u001b[38;5;28;01mfor\u001b[39;00m i \u001b[38;5;129;01min\u001b[39;00m \u001b[38;5;28mself\u001b[39m\u001b[38;5;241m.\u001b[39mlist1:\n\u001b[0;32m      2\u001b[0m     \u001b[38;5;28mprint\u001b[39m(\u001b[38;5;124mf\u001b[39m\u001b[38;5;124m\"\u001b[39m\u001b[38;5;132;01m{\u001b[39;00mi\u001b[38;5;132;01m}\u001b[39;00m\u001b[38;5;124m is assigned the seat number: \u001b[39m\u001b[38;5;132;01m{\u001b[39;00mrandom\u001b[38;5;241m.\u001b[39msample(\u001b[38;5;28mself\u001b[39m\u001b[38;5;241m.\u001b[39mlist2,\u001b[38;5;241m1\u001b[39m)\u001b[38;5;132;01m}\u001b[39;00m\u001b[38;5;124m\"\u001b[39m)\n",
      "\u001b[1;31mNameError\u001b[0m: name 'self' is not defined"
     ]
    }
   ],
   "source": [
    "class arrangement():\n",
    "    def __init__(self, list1, list2):\n",
    "        self.list1=list1\n",
    "        self.list2=list2\n",
    "    \n",
    "    def chair_assignment(self):\n",
    "        for i in self.list1:\n",
    "            print(f\"{i} is assigned the seat number: {random.sample(self.list2,1)}\")"
   ]
  },
  {
   "cell_type": "code",
   "execution_count": null,
   "id": "bc9ea636",
   "metadata": {},
   "outputs": [],
   "source": [
    "class seat():                                  ## free==chairs                  occcupant is the chair no  dictionary\n",
    "    def __init__(self, free=True, occupant):      \n",
    "        self.free=free\n",
    "        self.occupant=occupant\n",
    "        \n",
    "            \n",
    "    \n",
    "    def set_occupant(name):\n",
    "        #which allows the program to assign someone a seat if it's free\n",
    "        if self.free==1:\n",
    "            self.occupant=name\n",
    "\n",
    "            print(f\"{name} is sitting on \")\n",
    "            self.free=False\n",
    "            \n",
    "\n",
    "        \n",
    "\n",
    "\n"
   ]
  },
  {
   "cell_type": "code",
   "execution_count": null,
   "id": "2a7f26c0",
   "metadata": {},
   "outputs": [],
   "source": [
    "class table():\n",
    "    def __init__(self, capacity, seats):     # capaciry is no of chairs present\n",
    "        self.capacity=capacity\n",
    "        self.seats=seats\n",
    "        \n",
    "    def has_free_spot(): \n",
    "        \n",
    "        #that returns a boolean (True if a spot is available)\n",
    "    def assign_seat(name):\n",
    "        # that places someone at the table\n",
    "    def left_capacity():\n",
    "        # that returns an integer"
   ]
  },
  {
   "cell_type": "code",
   "execution_count": null,
   "id": "4c94ab67",
   "metadata": {},
   "outputs": [
    {
     "name": "stdout",
     "output_type": "stream",
     "text": [
      "Hajer: ['chair52']\n",
      "Charly: ['chair53']\n",
      "Choti: ['chair32']\n",
      "Megan: ['chair61']\n",
      "Moussa: ['chair62']\n",
      "Yves: ['chair42']\n",
      "Preeti: ['chair61']\n",
      "Nadiya: ['chair52']\n",
      "Aida: ['chair43']\n",
      "Augustin: ['chair44']\n",
      "Klebert: ['chair42']\n",
      "Marc: ['chair34']\n",
      "Sofia: ['chair53']\n",
      "Younes: ['chair12']\n",
      "Kenny: ['chair61']\n",
      "Floriane: ['chair44']\n",
      "Jordi: ['chair31']\n",
      "Alberto: ['chair21']\n",
      "Fang: ['chair64']\n",
      "Caterina: ['chair34']\n",
      "Yassine: ['chair61']\n",
      "Dragos: ['chair11']\n",
      "Hanieh: ['chair22']\n",
      "Mengstu: ['chair54']\n"
     ]
    }
   ],
   "source": [
    "class openspace:\n",
    "    def __init__(self, table,no_of_tables)\n",
    "\n",
    "    "
   ]
  },
  {
   "cell_type": "code",
   "execution_count": null,
   "id": "fba927da",
   "metadata": {},
   "outputs": [],
   "source": [
    "def set_occupant(name):\n",
    "\n",
    "        "
   ]
  },
  {
   "cell_type": "code",
   "execution_count": 125,
   "id": "d3b60045",
   "metadata": {},
   "outputs": [
    {
     "data": {
      "text/plain": [
       "dict_keys(['table1', 'table2', 'table3', 'table4', 'table5', 'table6'])"
      ]
     },
     "execution_count": 125,
     "metadata": {},
     "output_type": "execute_result"
    }
   ],
   "source": [
    "class_room.keys()"
   ]
  },
  {
   "cell_type": "code",
   "execution_count": null,
   "id": "949e8963",
   "metadata": {},
   "outputs": [],
   "source": [
    "class Seat:\n",
    "    def __init__(self):\n",
    "       \n",
    "        \n",
    "        self.free = True\n",
    "        self.occupant = None \n",
    "\n",
    "    def set_occupant(self, name):\n",
    "       \n",
    "        if self.free:\n",
    "            self.occupant = name\n",
    "            self.free = False\n",
    "            print(f\"'{name}' has been assigned to the seat.\")\n",
    "            return True\n",
    "        else:\n",
    "            print(f\"This seat is already occupied by '{self.occupant}'. Cannot assign '{name}'.\")\n",
    "            return False\n",
    "\n",
    "    def remove_occupant(self):\n",
    "      \n",
    "        if not self.free:\n",
    "            removed_name = self.occupant\n",
    "            self.occupant = None\n",
    "            self.free = True\n",
    "            print(f\"'{removed_name}' has been removed from the seat. The seat is now free.\")\n",
    "            return removed_name\n",
    "        else:\n",
    "            print(\"This seat is already free. No occupant to remove.\")\n",
    "            return None"
   ]
  },
  {
   "cell_type": "code",
   "execution_count": null,
   "id": "83b8e8b0",
   "metadata": {},
   "outputs": [],
   "source": []
  },
  {
   "cell_type": "code",
   "execution_count": null,
   "id": "977b2a37",
   "metadata": {},
   "outputs": [],
   "source": []
  },
  {
   "cell_type": "code",
   "execution_count": null,
   "id": "6cd8d2a5",
   "metadata": {},
   "outputs": [],
   "source": []
  },
  {
   "cell_type": "code",
   "execution_count": null,
   "id": "61a4860f",
   "metadata": {},
   "outputs": [],
   "source": []
  },
  {
   "cell_type": "code",
   "execution_count": null,
   "id": "77bfe91a",
   "metadata": {},
   "outputs": [],
   "source": []
  },
  {
   "cell_type": "code",
   "execution_count": null,
   "id": "6324d69a",
   "metadata": {},
   "outputs": [],
   "source": []
  },
  {
   "cell_type": "code",
   "execution_count": null,
   "id": "fe945cdf",
   "metadata": {},
   "outputs": [],
   "source": []
  },
  {
   "cell_type": "code",
   "execution_count": null,
   "id": "68763539",
   "metadata": {},
   "outputs": [],
   "source": []
  },
  {
   "cell_type": "code",
   "execution_count": null,
   "id": "d6bbe5b2",
   "metadata": {},
   "outputs": [],
   "source": []
  },
  {
   "cell_type": "code",
   "execution_count": null,
   "id": "8ad03673",
   "metadata": {},
   "outputs": [],
   "source": []
  },
  {
   "cell_type": "code",
   "execution_count": null,
   "id": "512452da",
   "metadata": {},
   "outputs": [],
   "source": []
  },
  {
   "cell_type": "code",
   "execution_count": null,
   "id": "76aa415d",
   "metadata": {},
   "outputs": [],
   "source": []
  },
  {
   "cell_type": "code",
   "execution_count": null,
   "id": "0cb3f55f",
   "metadata": {},
   "outputs": [],
   "source": []
  },
  {
   "cell_type": "code",
   "execution_count": null,
   "id": "103aa422",
   "metadata": {},
   "outputs": [],
   "source": []
  },
  {
   "cell_type": "code",
   "execution_count": null,
   "id": "99a816a4",
   "metadata": {},
   "outputs": [],
   "source": []
  },
  {
   "cell_type": "code",
   "execution_count": null,
   "id": "7d32b68e",
   "metadata": {},
   "outputs": [],
   "source": []
  }
 ],
 "metadata": {
  "kernelspec": {
   "display_name": "base",
   "language": "python",
   "name": "python3"
  },
  "language_info": {
   "codemirror_mode": {
    "name": "ipython",
    "version": 3
   },
   "file_extension": ".py",
   "mimetype": "text/x-python",
   "name": "python",
   "nbconvert_exporter": "python",
   "pygments_lexer": "ipython3",
   "version": "3.11.7"
  }
 },
 "nbformat": 4,
 "nbformat_minor": 5
}

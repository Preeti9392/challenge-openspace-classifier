{
 "cells": [
  {
   "cell_type": "code",
   "execution_count": 23,
   "id": "a2df363d",
   "metadata": {},
   "outputs": [],
   "source": [
    "import pandas as pd\n",
    "import random\n"
   ]
  },
  {
   "cell_type": "code",
   "execution_count": 40,
   "id": "6aacbf0a",
   "metadata": {},
   "outputs": [],
   "source": [
    "#Loading the name of students in students variable\n",
    "students=pd.read_csv(\"C:\\\\Users\\\\preet\\\\practicefolder\\\\colleagues.csv\", header=None)"
   ]
  },
  {
   "cell_type": "code",
   "execution_count": 42,
   "id": "f1185f6f",
   "metadata": {},
   "outputs": [
    {
     "data": {
      "text/html": [
       "<div>\n",
       "<style scoped>\n",
       "    .dataframe tbody tr th:only-of-type {\n",
       "        vertical-align: middle;\n",
       "    }\n",
       "\n",
       "    .dataframe tbody tr th {\n",
       "        vertical-align: top;\n",
       "    }\n",
       "\n",
       "    .dataframe thead th {\n",
       "        text-align: right;\n",
       "    }\n",
       "</style>\n",
       "<table border=\"1\" class=\"dataframe\">\n",
       "  <thead>\n",
       "    <tr style=\"text-align: right;\">\n",
       "      <th></th>\n",
       "      <th>0</th>\n",
       "    </tr>\n",
       "  </thead>\n",
       "  <tbody>\n",
       "    <tr>\n",
       "      <th>0</th>\n",
       "      <td>Hajer</td>\n",
       "    </tr>\n",
       "    <tr>\n",
       "      <th>1</th>\n",
       "      <td>Charly</td>\n",
       "    </tr>\n",
       "    <tr>\n",
       "      <th>2</th>\n",
       "      <td>Choti</td>\n",
       "    </tr>\n",
       "    <tr>\n",
       "      <th>3</th>\n",
       "      <td>Megan</td>\n",
       "    </tr>\n",
       "    <tr>\n",
       "      <th>4</th>\n",
       "      <td>Moussa</td>\n",
       "    </tr>\n",
       "    <tr>\n",
       "      <th>5</th>\n",
       "      <td>Yves</td>\n",
       "    </tr>\n",
       "    <tr>\n",
       "      <th>6</th>\n",
       "      <td>Preeti</td>\n",
       "    </tr>\n",
       "    <tr>\n",
       "      <th>7</th>\n",
       "      <td>Nadiya</td>\n",
       "    </tr>\n",
       "    <tr>\n",
       "      <th>8</th>\n",
       "      <td>Aida</td>\n",
       "    </tr>\n",
       "    <tr>\n",
       "      <th>9</th>\n",
       "      <td>Augustin</td>\n",
       "    </tr>\n",
       "    <tr>\n",
       "      <th>10</th>\n",
       "      <td>Klebert</td>\n",
       "    </tr>\n",
       "    <tr>\n",
       "      <th>11</th>\n",
       "      <td>Marc</td>\n",
       "    </tr>\n",
       "    <tr>\n",
       "      <th>12</th>\n",
       "      <td>Sofia</td>\n",
       "    </tr>\n",
       "    <tr>\n",
       "      <th>13</th>\n",
       "      <td>Younes</td>\n",
       "    </tr>\n",
       "    <tr>\n",
       "      <th>14</th>\n",
       "      <td>Kenny</td>\n",
       "    </tr>\n",
       "    <tr>\n",
       "      <th>15</th>\n",
       "      <td>Floriane</td>\n",
       "    </tr>\n",
       "    <tr>\n",
       "      <th>16</th>\n",
       "      <td>Jordi</td>\n",
       "    </tr>\n",
       "    <tr>\n",
       "      <th>17</th>\n",
       "      <td>Alberto</td>\n",
       "    </tr>\n",
       "    <tr>\n",
       "      <th>18</th>\n",
       "      <td>Fang</td>\n",
       "    </tr>\n",
       "    <tr>\n",
       "      <th>19</th>\n",
       "      <td>Caterina</td>\n",
       "    </tr>\n",
       "    <tr>\n",
       "      <th>20</th>\n",
       "      <td>Yassine</td>\n",
       "    </tr>\n",
       "    <tr>\n",
       "      <th>21</th>\n",
       "      <td>Dragos</td>\n",
       "    </tr>\n",
       "    <tr>\n",
       "      <th>22</th>\n",
       "      <td>Hanieh</td>\n",
       "    </tr>\n",
       "    <tr>\n",
       "      <th>23</th>\n",
       "      <td>Mengstu</td>\n",
       "    </tr>\n",
       "    <tr>\n",
       "      <th>24</th>\n",
       "      <td>Evi</td>\n",
       "    </tr>\n",
       "    <tr>\n",
       "      <th>25</th>\n",
       "      <td>Emmanuel</td>\n",
       "    </tr>\n",
       "  </tbody>\n",
       "</table>\n",
       "</div>"
      ],
      "text/plain": [
       "           0\n",
       "0      Hajer\n",
       "1     Charly\n",
       "2      Choti\n",
       "3      Megan\n",
       "4     Moussa\n",
       "5       Yves\n",
       "6     Preeti\n",
       "7     Nadiya\n",
       "8       Aida\n",
       "9   Augustin\n",
       "10   Klebert\n",
       "11      Marc\n",
       "12     Sofia\n",
       "13    Younes\n",
       "14     Kenny\n",
       "15  Floriane\n",
       "16     Jordi\n",
       "17   Alberto\n",
       "18      Fang\n",
       "19  Caterina\n",
       "20   Yassine\n",
       "21    Dragos\n",
       "22    Hanieh\n",
       "23   Mengstu\n",
       "24       Evi\n",
       "25  Emmanuel"
      ]
     },
     "execution_count": 42,
     "metadata": {},
     "output_type": "execute_result"
    }
   ],
   "source": [
    "students"
   ]
  },
  {
   "cell_type": "code",
   "execution_count": 38,
   "id": "3616abdc",
   "metadata": {},
   "outputs": [
    {
     "ename": "AttributeError",
     "evalue": "'DataFrame' object has no attribute 'drop_index'",
     "output_type": "error",
     "traceback": [
      "\u001b[1;31m---------------------------------------------------------------------------\u001b[0m",
      "\u001b[1;31mAttributeError\u001b[0m                            Traceback (most recent call last)",
      "\u001b[1;32m~\\AppData\\Local\\Temp\\ipykernel_26476\\3043708740.py\u001b[0m in \u001b[0;36m?\u001b[1;34m()\u001b[0m\n\u001b[1;32m----> 1\u001b[1;33m \u001b[0mstudents\u001b[0m\u001b[1;33m.\u001b[0m\u001b[0mdrop_index\u001b[0m\u001b[1;33m(\u001b[0m\u001b[0minplace\u001b[0m\u001b[1;33m=\u001b[0m\u001b[1;32mTrue\u001b[0m\u001b[1;33m)\u001b[0m\u001b[1;33m\u001b[0m\u001b[1;33m\u001b[0m\u001b[0m\n\u001b[0m\u001b[0;32m      2\u001b[0m \u001b[0mstudents\u001b[0m\u001b[1;33m\u001b[0m\u001b[1;33m\u001b[0m\u001b[0m\n",
      "\u001b[1;32mc:\\Users\\preet\\Anaconda\\anaconda3\\Lib\\site-packages\\pandas\\core\\generic.py\u001b[0m in \u001b[0;36m?\u001b[1;34m(self, name)\u001b[0m\n\u001b[0;32m   6200\u001b[0m             \u001b[1;32mand\u001b[0m \u001b[0mname\u001b[0m \u001b[1;32mnot\u001b[0m \u001b[1;32min\u001b[0m \u001b[0mself\u001b[0m\u001b[1;33m.\u001b[0m\u001b[0m_accessors\u001b[0m\u001b[1;33m\u001b[0m\u001b[1;33m\u001b[0m\u001b[0m\n\u001b[0;32m   6201\u001b[0m             \u001b[1;32mand\u001b[0m \u001b[0mself\u001b[0m\u001b[1;33m.\u001b[0m\u001b[0m_info_axis\u001b[0m\u001b[1;33m.\u001b[0m\u001b[0m_can_hold_identifiers_and_holds_name\u001b[0m\u001b[1;33m(\u001b[0m\u001b[0mname\u001b[0m\u001b[1;33m)\u001b[0m\u001b[1;33m\u001b[0m\u001b[1;33m\u001b[0m\u001b[0m\n\u001b[0;32m   6202\u001b[0m         ):\n\u001b[0;32m   6203\u001b[0m             \u001b[1;32mreturn\u001b[0m \u001b[0mself\u001b[0m\u001b[1;33m[\u001b[0m\u001b[0mname\u001b[0m\u001b[1;33m]\u001b[0m\u001b[1;33m\u001b[0m\u001b[1;33m\u001b[0m\u001b[0m\n\u001b[1;32m-> 6204\u001b[1;33m         \u001b[1;32mreturn\u001b[0m \u001b[0mobject\u001b[0m\u001b[1;33m.\u001b[0m\u001b[0m__getattribute__\u001b[0m\u001b[1;33m(\u001b[0m\u001b[0mself\u001b[0m\u001b[1;33m,\u001b[0m \u001b[0mname\u001b[0m\u001b[1;33m)\u001b[0m\u001b[1;33m\u001b[0m\u001b[1;33m\u001b[0m\u001b[0m\n\u001b[0m",
      "\u001b[1;31mAttributeError\u001b[0m: 'DataFrame' object has no attribute 'drop_index'"
     ]
    }
   ],
   "source": [
    "students.drop_index(inplace=True)\n",
    "students"
   ]
  },
  {
   "cell_type": "code",
   "execution_count": 35,
   "id": "7210518b",
   "metadata": {},
   "outputs": [
    {
     "data": {
      "text/plain": [
       "0       Charly\n",
       "1        Choti\n",
       "2        Megan\n",
       "3       Moussa\n",
       "4         Yves\n",
       "5       Preeti\n",
       "6       Nadiya\n",
       "7         Aida\n",
       "8     Augustin\n",
       "9      Klebert\n",
       "10        Marc\n",
       "11       Sofia\n",
       "12      Younes\n",
       "13       Kenny\n",
       "14    Floriane\n",
       "15       Jordi\n",
       "16     Alberto\n",
       "17        Fang\n",
       "18    Caterina\n",
       "19     Yassine\n",
       "20      Dragos\n",
       "21      Hanieh\n",
       "22     Mengstu\n",
       "23         Evi\n",
       "24    Emmanuel\n",
       "Name: Hajer, dtype: object"
      ]
     },
     "execution_count": 35,
     "metadata": {},
     "output_type": "execute_result"
    }
   ],
   "source": [
    "student_list=students[\"Hajer\"]\n",
    "student_list"
   ]
  },
  {
   "cell_type": "code",
   "execution_count": 16,
   "id": "d5b2837e",
   "metadata": {},
   "outputs": [],
   "source": [
    "# Creating a class room there each table has four chair \n",
    "class_room = {\"table1\":[\"chair11\",\"chair12\",\"chair13\",\"chair14\"]}\n",
    "class_room[\"table1\"]=[\"chair11\",\"chair12\",\"chair13\",\"chair14\"]\n",
    "class_room[\"table2\"]=[\"chair21\",\"chair22\",\"chair23\",\"chair24\"]\n",
    "class_room[\"table3\"]=[\"chair31\",\"chair32\",\"chair33\",\"chair34\"]\n",
    "class_room[\"table4\"]=[\"chair41\",\"chair42\",\"chair43\",\"chair44\"]\n",
    "class_room[\"table5\"]=[\"chair51\",\"chair52\",\"chair53\",\"chair54\"]\n",
    "class_room[\"table6\"]=[\"chair61\",\"chair62\",\"chair63\",\"chair64\"]"
   ]
  },
  {
   "cell_type": "code",
   "execution_count": 17,
   "id": "8ac821a4",
   "metadata": {},
   "outputs": [
    {
     "data": {
      "text/plain": [
       "[['chair11', 'chair12', 'chair13', 'chair14'],\n",
       " ['chair21', 'chair22', 'chair23', 'chair24'],\n",
       " ['chair31', 'chair32', 'chair33', 'chair34'],\n",
       " ['chair41', 'chair42', 'chair43', 'chair44'],\n",
       " ['chair51', 'chair52', 'chair53', 'chair54'],\n",
       " ['chair61', 'chair62', 'chair63', 'chair64']]"
      ]
     },
     "execution_count": 17,
     "metadata": {},
     "output_type": "execute_result"
    }
   ],
   "source": [
    "for i in class_room.values():\n",
    "    total_chairs=list(class_room.values())\n",
    "total_chairs"
   ]
  },
  {
   "cell_type": "code",
   "execution_count": 21,
   "id": "2b189780",
   "metadata": {},
   "outputs": [
    {
     "data": {
      "text/plain": [
       "24"
      ]
     },
     "execution_count": 21,
     "metadata": {},
     "output_type": "execute_result"
    }
   ],
   "source": [
    "list_of_chairs=[]\n",
    "for x in total_chairs:\n",
    "    for a in x:\n",
    "        list_of_chairs.append(a)\n",
    "len(list_of_chairs)"
   ]
  },
  {
   "cell_type": "code",
   "execution_count": null,
   "id": "0271637f",
   "metadata": {},
   "outputs": [],
   "source": [
    "class arrangement(list1,list2):\n",
    "    def __init__(self, list1, list2):\n",
    "        self.list1=list1\n",
    "        self.list2=list2\n",
    "    \n",
    "    def chair_assignment(self):\n",
    "        for i in list1:\n",
    "        i=random.sample(list_of_chairs,1)\n",
    "        print(f\"{i}: \")"
   ]
  },
  {
   "cell_type": "code",
   "execution_count": 26,
   "id": "4c94ab67",
   "metadata": {},
   "outputs": [
    {
     "name": "stdout",
     "output_type": "stream",
     "text": [
      "Hajer\n",
      "['chair24']\n"
     ]
    }
   ],
   "source": [
    "for i in students:\n",
    "    print(i)\n",
    "    i=random.sample(list_of_chairs,1)\n",
    "    print(i)"
   ]
  },
  {
   "cell_type": "code",
   "execution_count": null,
   "id": "fba927da",
   "metadata": {},
   "outputs": [],
   "source": []
  },
  {
   "cell_type": "code",
   "execution_count": null,
   "id": "d3b60045",
   "metadata": {},
   "outputs": [],
   "source": []
  },
  {
   "cell_type": "code",
   "execution_count": null,
   "id": "949e8963",
   "metadata": {},
   "outputs": [],
   "source": []
  },
  {
   "cell_type": "code",
   "execution_count": null,
   "id": "83b8e8b0",
   "metadata": {},
   "outputs": [],
   "source": []
  },
  {
   "cell_type": "code",
   "execution_count": null,
   "id": "977b2a37",
   "metadata": {},
   "outputs": [],
   "source": []
  },
  {
   "cell_type": "code",
   "execution_count": null,
   "id": "6cd8d2a5",
   "metadata": {},
   "outputs": [],
   "source": []
  },
  {
   "cell_type": "code",
   "execution_count": null,
   "id": "61a4860f",
   "metadata": {},
   "outputs": [],
   "source": []
  },
  {
   "cell_type": "code",
   "execution_count": null,
   "id": "77bfe91a",
   "metadata": {},
   "outputs": [],
   "source": []
  },
  {
   "cell_type": "code",
   "execution_count": null,
   "id": "6324d69a",
   "metadata": {},
   "outputs": [],
   "source": []
  },
  {
   "cell_type": "code",
   "execution_count": null,
   "id": "fe945cdf",
   "metadata": {},
   "outputs": [],
   "source": []
  },
  {
   "cell_type": "code",
   "execution_count": null,
   "id": "68763539",
   "metadata": {},
   "outputs": [],
   "source": []
  },
  {
   "cell_type": "code",
   "execution_count": null,
   "id": "d6bbe5b2",
   "metadata": {},
   "outputs": [],
   "source": []
  },
  {
   "cell_type": "code",
   "execution_count": null,
   "id": "8ad03673",
   "metadata": {},
   "outputs": [],
   "source": []
  },
  {
   "cell_type": "code",
   "execution_count": null,
   "id": "512452da",
   "metadata": {},
   "outputs": [],
   "source": []
  },
  {
   "cell_type": "code",
   "execution_count": null,
   "id": "76aa415d",
   "metadata": {},
   "outputs": [],
   "source": []
  },
  {
   "cell_type": "code",
   "execution_count": null,
   "id": "0cb3f55f",
   "metadata": {},
   "outputs": [],
   "source": []
  },
  {
   "cell_type": "code",
   "execution_count": null,
   "id": "103aa422",
   "metadata": {},
   "outputs": [],
   "source": []
  },
  {
   "cell_type": "code",
   "execution_count": null,
   "id": "99a816a4",
   "metadata": {},
   "outputs": [],
   "source": []
  },
  {
   "cell_type": "code",
   "execution_count": null,
   "id": "7d32b68e",
   "metadata": {},
   "outputs": [],
   "source": []
  }
 ],
 "metadata": {
  "kernelspec": {
   "display_name": "base",
   "language": "python",
   "name": "python3"
  },
  "language_info": {
   "codemirror_mode": {
    "name": "ipython",
    "version": 3
   },
   "file_extension": ".py",
   "mimetype": "text/x-python",
   "name": "python",
   "nbconvert_exporter": "python",
   "pygments_lexer": "ipython3",
   "version": "3.11.7"
  }
 },
 "nbformat": 4,
 "nbformat_minor": 5
}

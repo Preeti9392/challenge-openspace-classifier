{
 "cells": [
  {
   "cell_type": "code",
   "execution_count": 178,
   "id": "a2df363d",
   "metadata": {},
   "outputs": [
    {
     "name": "stdout",
     "output_type": "stream",
     "text": [
      "table1\n",
      "chair1=['Emmanuel']\n",
      "chair2=['Alberto']\n",
      "chair3=['Charly']\n",
      "chair4=['Yassine']\n",
      "table2\n",
      "chair1=['Yves']\n",
      "chair2=['Younes']\n",
      "chair3=['Hanieh']\n",
      "chair4=['Sofia']\n",
      "table3\n",
      "chair1=['Alberto']\n",
      "chair2=['Younes']\n",
      "chair3=['Augustin']\n",
      "chair4=['Megan']\n",
      "table4\n",
      "chair1=['Sofia']\n",
      "chair2=['Moussa']\n",
      "chair3=['Aida']\n",
      "chair4=['Yves']\n",
      "table5\n",
      "chair1=['Jordi']\n",
      "chair2=['Sofia']\n",
      "chair3=['Fang']\n",
      "chair4=['Dragos']\n",
      "table6\n",
      "chair1=['Alberto']\n",
      "chair2=['Choti']\n",
      "chair3=['Megan']\n",
      "chair4=['Augustin']\n",
      "table7\n",
      "chair1=['Nadiya']\n",
      "chair2=['Aida']\n",
      "chair3=['Moussa']\n",
      "chair4=['Marc']\n"
     ]
    }
   ],
   "source": [
    "import pandas as pd\n",
    "import random\n",
    "\n",
    "#Loading the name of students in students\n",
    "students=pd.read_csv(\"C:\\\\Users\\\\preet\\\\practicefolder\\\\colleagues.csv\", header=None)\n",
    "students.head()\n",
    "# assigning column name to the the students name column\n",
    "students=students.set_axis([\"students_name\"], axis=1)\n",
    "# making a list of students\n",
    "students=list(students[\"students_name\"])\n",
    "\n",
    "# checking the number of students\n",
    "len(students)\n",
    "# Creating a class_room dictionary there each table has four chair \n",
    "# table as keys and chairs as values to the keys\n",
    "class_room = {\"table1\":[\"chair1\",\"chair2\",\"chair3\",\"chair4\"]}\n",
    "class_room[\"table2\"]=[\"chair1\",\"chair2\",\"chair3\",\"chair4\"]\n",
    "class_room[\"table3\"]=[\"chair1\",\"chair2\",\"chair3\",\"chair4\"]\n",
    "class_room[\"table4\"]=[\"chair1\",\"chair2\",\"chair3\",\"chair4\"]\n",
    "class_room[\"table5\"]=[\"chair1\",\"chair2\",\"chair3\",\"chair4\"]\n",
    "class_room[\"table6\"]=[\"chair1\",\"chair2\",\"chair3\",\"chair4\"]\n",
    "#assigning random seats to the students\n",
    "if len(students)<=24:          \n",
    "    # if students have sufficient chairs present\n",
    "    seatsleft=24\n",
    "    for i in class_room.keys():\n",
    "        print(i)\n",
    "        for x in range(4):\n",
    "            print(f\"{class_room[i][x]}={random.sample(students,1)}\")\n",
    "        seatsleft-=1\n",
    "\n",
    "elif len(students)>24:           \n",
    "     # if the no of students is more than the chairs in room\n",
    "    class_room[\"table7\"]=[\"chair1\",\"chair2\",\"chair3\",\"chair4\"]       \n",
    "    # adding one more table to the classroom\n",
    "    seatsleft=28\n",
    "    for i in class_room.keys():\n",
    "        print(i)\n",
    "        for x in range(4):\n",
    "            print(f\"{class_room[i][x]}={random.sample(students,1)}\")\n",
    "        seatsleft-=1\n",
    "\n"
   ]
  },
  {
   "cell_type": "code",
   "execution_count": null,
   "id": "5703e202",
   "metadata": {},
   "outputs": [],
   "source": [
    "\n",
    "    "
   ]
  },
  {
   "cell_type": "code",
   "execution_count": null,
   "id": "a3b94b67",
   "metadata": {},
   "outputs": [],
   "source": []
  },
  {
   "cell_type": "code",
   "execution_count": null,
   "id": "4f67de27",
   "metadata": {},
   "outputs": [],
   "source": []
  },
  {
   "cell_type": "code",
   "execution_count": null,
   "id": "c45a5192",
   "metadata": {},
   "outputs": [],
   "source": []
  },
  {
   "cell_type": "code",
   "execution_count": null,
   "id": "b173bf86",
   "metadata": {},
   "outputs": [],
   "source": []
  },
  {
   "cell_type": "code",
   "execution_count": null,
   "id": "e64fa399",
   "metadata": {},
   "outputs": [],
   "source": []
  }
 ],
 "metadata": {
  "kernelspec": {
   "display_name": "base",
   "language": "python",
   "name": "python3"
  },
  "language_info": {
   "codemirror_mode": {
    "name": "ipython",
    "version": 3
   },
   "file_extension": ".py",
   "mimetype": "text/x-python",
   "name": "python",
   "nbconvert_exporter": "python",
   "pygments_lexer": "ipython3",
   "version": "3.11.7"
  }
 },
 "nbformat": 4,
 "nbformat_minor": 5
}
